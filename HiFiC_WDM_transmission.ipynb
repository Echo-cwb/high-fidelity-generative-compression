{
  "cells": [
    {
      "cell_type": "markdown",
      "metadata": {
        "id": "view-in-github",
        "colab_type": "text"
      },
      "source": [
        "<a href=\"https://colab.research.google.com/github/Echo-cwb/high-fidelity-generative-compression/blob/master/HiFiC_WDM_transmission.ipynb\" target=\"_parent\"><img src=\"https://colab.research.google.com/assets/colab-badge.svg\" alt=\"Open In Colab\"/></a>"
      ]
    },
    {
      "cell_type": "code",
      "execution_count": 1,
      "id": "1ca1b9d6",
      "metadata": {
        "id": "1ca1b9d6",
        "outputId": "623dc6dc-2432-4e03-d6aa-04a5c9a01eed",
        "colab": {
          "base_uri": "https://localhost:8080/"
        }
      },
      "outputs": [
        {
          "output_type": "stream",
          "name": "stdout",
          "text": [
            "Cloning into 'OptiCommPy'...\n",
            "remote: Enumerating objects: 3193, done.\u001b[K\n",
            "remote: Counting objects: 100% (388/388), done.\u001b[K\n",
            "remote: Compressing objects: 100% (52/52), done.\u001b[K\n",
            "remote: Total 3193 (delta 347), reused 364 (delta 336), pack-reused 2805\u001b[K\n",
            "Receiving objects: 100% (3193/3193), 67.40 MiB | 14.16 MiB/s, done.\n",
            "Resolving deltas: 100% (2210/2210), done.\n",
            "Looking in indexes: https://pypi.org/simple, https://us-python.pkg.dev/colab-wheels/public/simple/\n",
            "Processing /content/OptiCommPy\n",
            "\u001b[33m  DEPRECATION: A future pip version will change local packages to be built in-place without first copying to a temporary directory. We recommend you use --use-feature=in-tree-build to test your packages with this new behavior before it becomes the default.\n",
            "   pip 21.3 will remove support for this functionality. You can find discussion regarding this at https://github.com/pypa/pip/issues/7555.\u001b[0m\n",
            "Requirement already satisfied: numpy in /usr/local/lib/python3.7/dist-packages (from OpticCommpy==0.1.0) (1.21.6)\n",
            "Requirement already satisfied: scipy in /usr/local/lib/python3.7/dist-packages (from OpticCommpy==0.1.0) (1.7.3)\n",
            "Requirement already satisfied: matplotlib in /usr/local/lib/python3.7/dist-packages (from OpticCommpy==0.1.0) (3.2.2)\n",
            "Requirement already satisfied: sympy in /usr/local/lib/python3.7/dist-packages (from OpticCommpy==0.1.0) (1.7.1)\n",
            "Requirement already satisfied: tqdm in /usr/local/lib/python3.7/dist-packages (from OpticCommpy==0.1.0) (4.64.1)\n",
            "Requirement already satisfied: numba in /usr/local/lib/python3.7/dist-packages (from OpticCommpy==0.1.0) (0.56.4)\n",
            "Collecting scikit-commpy\n",
            "  Downloading scikit-commpy-0.8.0.tar.gz (102 kB)\n",
            "\u001b[K     |████████████████████████████████| 102 kB 33.0 MB/s \n",
            "\u001b[?25hRequirement already satisfied: python-dateutil>=2.1 in /usr/local/lib/python3.7/dist-packages (from matplotlib->OpticCommpy==0.1.0) (2.8.2)\n",
            "Requirement already satisfied: pyparsing!=2.0.4,!=2.1.2,!=2.1.6,>=2.0.1 in /usr/local/lib/python3.7/dist-packages (from matplotlib->OpticCommpy==0.1.0) (3.0.9)\n",
            "Requirement already satisfied: kiwisolver>=1.0.1 in /usr/local/lib/python3.7/dist-packages (from matplotlib->OpticCommpy==0.1.0) (1.4.4)\n",
            "Requirement already satisfied: cycler>=0.10 in /usr/local/lib/python3.7/dist-packages (from matplotlib->OpticCommpy==0.1.0) (0.11.0)\n",
            "Requirement already satisfied: typing-extensions in /usr/local/lib/python3.7/dist-packages (from kiwisolver>=1.0.1->matplotlib->OpticCommpy==0.1.0) (4.1.1)\n",
            "Requirement already satisfied: six>=1.5 in /usr/local/lib/python3.7/dist-packages (from python-dateutil>=2.1->matplotlib->OpticCommpy==0.1.0) (1.15.0)\n",
            "Requirement already satisfied: llvmlite<0.40,>=0.39.0dev0 in /usr/local/lib/python3.7/dist-packages (from numba->OpticCommpy==0.1.0) (0.39.1)\n",
            "Requirement already satisfied: setuptools in /usr/local/lib/python3.7/dist-packages (from numba->OpticCommpy==0.1.0) (57.4.0)\n",
            "Requirement already satisfied: importlib-metadata in /usr/local/lib/python3.7/dist-packages (from numba->OpticCommpy==0.1.0) (4.13.0)\n",
            "Requirement already satisfied: zipp>=0.5 in /usr/local/lib/python3.7/dist-packages (from importlib-metadata->numba->OpticCommpy==0.1.0) (3.10.0)\n",
            "Requirement already satisfied: mpmath>=0.19 in /usr/local/lib/python3.7/dist-packages (from sympy->OpticCommpy==0.1.0) (1.2.1)\n",
            "Building wheels for collected packages: OpticCommpy, scikit-commpy\n",
            "  Building wheel for OpticCommpy (setup.py) ... \u001b[?25l\u001b[?25hdone\n",
            "  Created wheel for OpticCommpy: filename=OpticCommpy-0.1.0-py3-none-any.whl size=45993 sha256=b9c236e2721be954d8d29e3ac5b63dfc1fe669743df1ad50b0a68229408210b9\n",
            "  Stored in directory: /tmp/pip-ephem-wheel-cache-wsvp4av1/wheels/86/a6/e4/b590dcf328df4752195276814fd608a284f1ead675da00b64c\n",
            "  Building wheel for scikit-commpy (setup.py) ... \u001b[?25l\u001b[?25hdone\n",
            "  Created wheel for scikit-commpy: filename=scikit_commpy-0.8.0-py3-none-any.whl size=115023 sha256=1cfc4f7ff65bf210adc14b01888ac6805c60b4e58892dfb1c71c30e1b1d4df32\n",
            "  Stored in directory: /root/.cache/pip/wheels/53/31/e7/5eb3325934a65c0e0c2ee1e718c2b1a3db6f0ea13a403a3e9e\n",
            "Successfully built OpticCommpy scikit-commpy\n",
            "Installing collected packages: scikit-commpy, OpticCommpy\n",
            "Successfully installed OpticCommpy-0.1.0 scikit-commpy-0.8.0\n",
            "Looking in indexes: https://pypi.org/simple, https://us-python.pkg.dev/colab-wheels/public/simple/\n",
            "Requirement already satisfied: numba in /usr/local/lib/python3.7/dist-packages (0.56.4)\n",
            "Requirement already satisfied: setuptools in /usr/local/lib/python3.7/dist-packages (from numba) (57.4.0)\n",
            "Requirement already satisfied: numpy<1.24,>=1.18 in /usr/local/lib/python3.7/dist-packages (from numba) (1.21.6)\n",
            "Requirement already satisfied: importlib-metadata in /usr/local/lib/python3.7/dist-packages (from numba) (4.13.0)\n",
            "Requirement already satisfied: llvmlite<0.40,>=0.39.0dev0 in /usr/local/lib/python3.7/dist-packages (from numba) (0.39.1)\n",
            "Requirement already satisfied: zipp>=0.5 in /usr/local/lib/python3.7/dist-packages (from importlib-metadata->numba) (3.10.0)\n",
            "Requirement already satisfied: typing-extensions>=3.6.4 in /usr/local/lib/python3.7/dist-packages (from importlib-metadata->numba) (4.1.1)\n"
          ]
        }
      ],
      "source": [
        "# Uncomment and run the code below to run this notebook in Colab\n",
        "#\n",
        "from os import chdir as cd\n",
        "! git clone https://github.com/edsonportosilva/OptiCommPy\n",
        "cd('/content/OptiCommPy')\n",
        "!pip install .\n",
        "!pip install numba --upgrade"
      ]
    },
    {
      "cell_type": "code",
      "execution_count": 2,
      "id": "a4110d40",
      "metadata": {
        "ExecuteTime": {
          "end_time": "2021-10-26T18:48:17.956499Z",
          "start_time": "2021-10-26T18:48:14.103003Z"
        },
        "id": "a4110d40"
      },
      "outputs": [],
      "source": [
        "import matplotlib.pyplot as plt\n",
        "import numpy as np\n",
        "\n",
        "from commpy.modulation import QAMModem\n",
        "\n",
        "from optic.dsp import pulseShape, firFilter, decimate, symbolSync\n",
        "from optic.models import phaseNoise, pdmCoherentReceiver#, manakovSSF\n",
        "from optic.modelsGPU import manakovSSF\n",
        "#from optic.tx import simpleWDMTx\n",
        "from optic.core import parameters\n",
        "from optic.equalization import edc, mimoAdaptEqualizer\n",
        "from optic.carrierRecovery import cpr\n",
        "from optic.metrics import fastBERcalc, monteCarloGMI, monteCarloMI, signal_power\n",
        "from optic.plot import pconst\n",
        "import pandas as pd\n",
        "\n",
        "import scipy.constants as const\n",
        "import scipy.io as scio"
      ]
    },
    {
      "cell_type": "code",
      "source": [
        "X = pd.read_csv(\"/content/OptiCommPy/test14_compressed.txt\", header=None)\n",
        "X = np.array(X)\n",
        "X.squeeze()\n",
        "X = X.T"
      ],
      "metadata": {
        "id": "MHdig1WWD-JA",
        "colab": {
          "base_uri": "https://localhost:8080/",
          "height": 395
        },
        "outputId": "566e30e0-9e08-4a4a-e3f8-3718bff1a82d"
      },
      "id": "MHdig1WWD-JA",
      "execution_count": null,
      "outputs": [
        {
          "output_type": "error",
          "ename": "FileNotFoundError",
          "evalue": "ignored",
          "traceback": [
            "\u001b[0;31m---------------------------------------------------------------------------\u001b[0m",
            "\u001b[0;31mFileNotFoundError\u001b[0m                         Traceback (most recent call last)",
            "\u001b[0;32m<ipython-input-6-eb02775e15cc>\u001b[0m in \u001b[0;36m<module>\u001b[0;34m\u001b[0m\n\u001b[0;32m----> 1\u001b[0;31m \u001b[0mX\u001b[0m \u001b[0;34m=\u001b[0m \u001b[0mpd\u001b[0m\u001b[0;34m.\u001b[0m\u001b[0mread_csv\u001b[0m\u001b[0;34m(\u001b[0m\u001b[0;34m\"/content/OptiCommPy/test14_compressed.txt\"\u001b[0m\u001b[0;34m,\u001b[0m \u001b[0mheader\u001b[0m\u001b[0;34m=\u001b[0m\u001b[0;32mNone\u001b[0m\u001b[0;34m)\u001b[0m\u001b[0;34m\u001b[0m\u001b[0;34m\u001b[0m\u001b[0m\n\u001b[0m\u001b[1;32m      2\u001b[0m \u001b[0mX\u001b[0m \u001b[0;34m=\u001b[0m \u001b[0mnp\u001b[0m\u001b[0;34m.\u001b[0m\u001b[0marray\u001b[0m\u001b[0;34m(\u001b[0m\u001b[0mX\u001b[0m\u001b[0;34m)\u001b[0m\u001b[0;34m\u001b[0m\u001b[0;34m\u001b[0m\u001b[0m\n\u001b[1;32m      3\u001b[0m \u001b[0mX\u001b[0m\u001b[0;34m.\u001b[0m\u001b[0msqueeze\u001b[0m\u001b[0;34m(\u001b[0m\u001b[0;34m)\u001b[0m\u001b[0;34m\u001b[0m\u001b[0;34m\u001b[0m\u001b[0m\n\u001b[1;32m      4\u001b[0m \u001b[0mX\u001b[0m \u001b[0;34m=\u001b[0m \u001b[0mX\u001b[0m\u001b[0;34m.\u001b[0m\u001b[0mT\u001b[0m\u001b[0;34m\u001b[0m\u001b[0;34m\u001b[0m\u001b[0m\n",
            "\u001b[0;32m/usr/local/lib/python3.7/dist-packages/pandas/util/_decorators.py\u001b[0m in \u001b[0;36mwrapper\u001b[0;34m(*args, **kwargs)\u001b[0m\n\u001b[1;32m    309\u001b[0m                     \u001b[0mstacklevel\u001b[0m\u001b[0;34m=\u001b[0m\u001b[0mstacklevel\u001b[0m\u001b[0;34m,\u001b[0m\u001b[0;34m\u001b[0m\u001b[0;34m\u001b[0m\u001b[0m\n\u001b[1;32m    310\u001b[0m                 )\n\u001b[0;32m--> 311\u001b[0;31m             \u001b[0;32mreturn\u001b[0m \u001b[0mfunc\u001b[0m\u001b[0;34m(\u001b[0m\u001b[0;34m*\u001b[0m\u001b[0margs\u001b[0m\u001b[0;34m,\u001b[0m \u001b[0;34m**\u001b[0m\u001b[0mkwargs\u001b[0m\u001b[0;34m)\u001b[0m\u001b[0;34m\u001b[0m\u001b[0;34m\u001b[0m\u001b[0m\n\u001b[0m\u001b[1;32m    312\u001b[0m \u001b[0;34m\u001b[0m\u001b[0m\n\u001b[1;32m    313\u001b[0m         \u001b[0;32mreturn\u001b[0m \u001b[0mwrapper\u001b[0m\u001b[0;34m\u001b[0m\u001b[0;34m\u001b[0m\u001b[0m\n",
            "\u001b[0;32m/usr/local/lib/python3.7/dist-packages/pandas/io/parsers/readers.py\u001b[0m in \u001b[0;36mread_csv\u001b[0;34m(filepath_or_buffer, sep, delimiter, header, names, index_col, usecols, squeeze, prefix, mangle_dupe_cols, dtype, engine, converters, true_values, false_values, skipinitialspace, skiprows, skipfooter, nrows, na_values, keep_default_na, na_filter, verbose, skip_blank_lines, parse_dates, infer_datetime_format, keep_date_col, date_parser, dayfirst, cache_dates, iterator, chunksize, compression, thousands, decimal, lineterminator, quotechar, quoting, doublequote, escapechar, comment, encoding, encoding_errors, dialect, error_bad_lines, warn_bad_lines, on_bad_lines, delim_whitespace, low_memory, memory_map, float_precision, storage_options)\u001b[0m\n\u001b[1;32m    584\u001b[0m     \u001b[0mkwds\u001b[0m\u001b[0;34m.\u001b[0m\u001b[0mupdate\u001b[0m\u001b[0;34m(\u001b[0m\u001b[0mkwds_defaults\u001b[0m\u001b[0;34m)\u001b[0m\u001b[0;34m\u001b[0m\u001b[0;34m\u001b[0m\u001b[0m\n\u001b[1;32m    585\u001b[0m \u001b[0;34m\u001b[0m\u001b[0m\n\u001b[0;32m--> 586\u001b[0;31m     \u001b[0;32mreturn\u001b[0m \u001b[0m_read\u001b[0m\u001b[0;34m(\u001b[0m\u001b[0mfilepath_or_buffer\u001b[0m\u001b[0;34m,\u001b[0m \u001b[0mkwds\u001b[0m\u001b[0;34m)\u001b[0m\u001b[0;34m\u001b[0m\u001b[0;34m\u001b[0m\u001b[0m\n\u001b[0m\u001b[1;32m    587\u001b[0m \u001b[0;34m\u001b[0m\u001b[0m\n\u001b[1;32m    588\u001b[0m \u001b[0;34m\u001b[0m\u001b[0m\n",
            "\u001b[0;32m/usr/local/lib/python3.7/dist-packages/pandas/io/parsers/readers.py\u001b[0m in \u001b[0;36m_read\u001b[0;34m(filepath_or_buffer, kwds)\u001b[0m\n\u001b[1;32m    480\u001b[0m \u001b[0;34m\u001b[0m\u001b[0m\n\u001b[1;32m    481\u001b[0m     \u001b[0;31m# Create the parser.\u001b[0m\u001b[0;34m\u001b[0m\u001b[0;34m\u001b[0m\u001b[0;34m\u001b[0m\u001b[0m\n\u001b[0;32m--> 482\u001b[0;31m     \u001b[0mparser\u001b[0m \u001b[0;34m=\u001b[0m \u001b[0mTextFileReader\u001b[0m\u001b[0;34m(\u001b[0m\u001b[0mfilepath_or_buffer\u001b[0m\u001b[0;34m,\u001b[0m \u001b[0;34m**\u001b[0m\u001b[0mkwds\u001b[0m\u001b[0;34m)\u001b[0m\u001b[0;34m\u001b[0m\u001b[0;34m\u001b[0m\u001b[0m\n\u001b[0m\u001b[1;32m    483\u001b[0m \u001b[0;34m\u001b[0m\u001b[0m\n\u001b[1;32m    484\u001b[0m     \u001b[0;32mif\u001b[0m \u001b[0mchunksize\u001b[0m \u001b[0;32mor\u001b[0m \u001b[0miterator\u001b[0m\u001b[0;34m:\u001b[0m\u001b[0;34m\u001b[0m\u001b[0;34m\u001b[0m\u001b[0m\n",
            "\u001b[0;32m/usr/local/lib/python3.7/dist-packages/pandas/io/parsers/readers.py\u001b[0m in \u001b[0;36m__init__\u001b[0;34m(self, f, engine, **kwds)\u001b[0m\n\u001b[1;32m    809\u001b[0m             \u001b[0mself\u001b[0m\u001b[0;34m.\u001b[0m\u001b[0moptions\u001b[0m\u001b[0;34m[\u001b[0m\u001b[0;34m\"has_index_names\"\u001b[0m\u001b[0;34m]\u001b[0m \u001b[0;34m=\u001b[0m \u001b[0mkwds\u001b[0m\u001b[0;34m[\u001b[0m\u001b[0;34m\"has_index_names\"\u001b[0m\u001b[0;34m]\u001b[0m\u001b[0;34m\u001b[0m\u001b[0;34m\u001b[0m\u001b[0m\n\u001b[1;32m    810\u001b[0m \u001b[0;34m\u001b[0m\u001b[0m\n\u001b[0;32m--> 811\u001b[0;31m         \u001b[0mself\u001b[0m\u001b[0;34m.\u001b[0m\u001b[0m_engine\u001b[0m \u001b[0;34m=\u001b[0m \u001b[0mself\u001b[0m\u001b[0;34m.\u001b[0m\u001b[0m_make_engine\u001b[0m\u001b[0;34m(\u001b[0m\u001b[0mself\u001b[0m\u001b[0;34m.\u001b[0m\u001b[0mengine\u001b[0m\u001b[0;34m)\u001b[0m\u001b[0;34m\u001b[0m\u001b[0;34m\u001b[0m\u001b[0m\n\u001b[0m\u001b[1;32m    812\u001b[0m \u001b[0;34m\u001b[0m\u001b[0m\n\u001b[1;32m    813\u001b[0m     \u001b[0;32mdef\u001b[0m \u001b[0mclose\u001b[0m\u001b[0;34m(\u001b[0m\u001b[0mself\u001b[0m\u001b[0;34m)\u001b[0m\u001b[0;34m:\u001b[0m\u001b[0;34m\u001b[0m\u001b[0;34m\u001b[0m\u001b[0m\n",
            "\u001b[0;32m/usr/local/lib/python3.7/dist-packages/pandas/io/parsers/readers.py\u001b[0m in \u001b[0;36m_make_engine\u001b[0;34m(self, engine)\u001b[0m\n\u001b[1;32m   1038\u001b[0m             )\n\u001b[1;32m   1039\u001b[0m         \u001b[0;31m# error: Too many arguments for \"ParserBase\"\u001b[0m\u001b[0;34m\u001b[0m\u001b[0;34m\u001b[0m\u001b[0;34m\u001b[0m\u001b[0m\n\u001b[0;32m-> 1040\u001b[0;31m         \u001b[0;32mreturn\u001b[0m \u001b[0mmapping\u001b[0m\u001b[0;34m[\u001b[0m\u001b[0mengine\u001b[0m\u001b[0;34m]\u001b[0m\u001b[0;34m(\u001b[0m\u001b[0mself\u001b[0m\u001b[0;34m.\u001b[0m\u001b[0mf\u001b[0m\u001b[0;34m,\u001b[0m \u001b[0;34m**\u001b[0m\u001b[0mself\u001b[0m\u001b[0;34m.\u001b[0m\u001b[0moptions\u001b[0m\u001b[0;34m)\u001b[0m  \u001b[0;31m# type: ignore[call-arg]\u001b[0m\u001b[0;34m\u001b[0m\u001b[0;34m\u001b[0m\u001b[0m\n\u001b[0m\u001b[1;32m   1041\u001b[0m \u001b[0;34m\u001b[0m\u001b[0m\n\u001b[1;32m   1042\u001b[0m     \u001b[0;32mdef\u001b[0m \u001b[0m_failover_to_python\u001b[0m\u001b[0;34m(\u001b[0m\u001b[0mself\u001b[0m\u001b[0;34m)\u001b[0m\u001b[0;34m:\u001b[0m\u001b[0;34m\u001b[0m\u001b[0;34m\u001b[0m\u001b[0m\n",
            "\u001b[0;32m/usr/local/lib/python3.7/dist-packages/pandas/io/parsers/c_parser_wrapper.py\u001b[0m in \u001b[0;36m__init__\u001b[0;34m(self, src, **kwds)\u001b[0m\n\u001b[1;32m     49\u001b[0m \u001b[0;34m\u001b[0m\u001b[0m\n\u001b[1;32m     50\u001b[0m         \u001b[0;31m# open handles\u001b[0m\u001b[0;34m\u001b[0m\u001b[0;34m\u001b[0m\u001b[0;34m\u001b[0m\u001b[0m\n\u001b[0;32m---> 51\u001b[0;31m         \u001b[0mself\u001b[0m\u001b[0;34m.\u001b[0m\u001b[0m_open_handles\u001b[0m\u001b[0;34m(\u001b[0m\u001b[0msrc\u001b[0m\u001b[0;34m,\u001b[0m \u001b[0mkwds\u001b[0m\u001b[0;34m)\u001b[0m\u001b[0;34m\u001b[0m\u001b[0;34m\u001b[0m\u001b[0m\n\u001b[0m\u001b[1;32m     52\u001b[0m         \u001b[0;32massert\u001b[0m \u001b[0mself\u001b[0m\u001b[0;34m.\u001b[0m\u001b[0mhandles\u001b[0m \u001b[0;32mis\u001b[0m \u001b[0;32mnot\u001b[0m \u001b[0;32mNone\u001b[0m\u001b[0;34m\u001b[0m\u001b[0;34m\u001b[0m\u001b[0m\n\u001b[1;32m     53\u001b[0m \u001b[0;34m\u001b[0m\u001b[0m\n",
            "\u001b[0;32m/usr/local/lib/python3.7/dist-packages/pandas/io/parsers/base_parser.py\u001b[0m in \u001b[0;36m_open_handles\u001b[0;34m(self, src, kwds)\u001b[0m\n\u001b[1;32m    227\u001b[0m             \u001b[0mmemory_map\u001b[0m\u001b[0;34m=\u001b[0m\u001b[0mkwds\u001b[0m\u001b[0;34m.\u001b[0m\u001b[0mget\u001b[0m\u001b[0;34m(\u001b[0m\u001b[0;34m\"memory_map\"\u001b[0m\u001b[0;34m,\u001b[0m \u001b[0;32mFalse\u001b[0m\u001b[0;34m)\u001b[0m\u001b[0;34m,\u001b[0m\u001b[0;34m\u001b[0m\u001b[0;34m\u001b[0m\u001b[0m\n\u001b[1;32m    228\u001b[0m             \u001b[0mstorage_options\u001b[0m\u001b[0;34m=\u001b[0m\u001b[0mkwds\u001b[0m\u001b[0;34m.\u001b[0m\u001b[0mget\u001b[0m\u001b[0;34m(\u001b[0m\u001b[0;34m\"storage_options\"\u001b[0m\u001b[0;34m,\u001b[0m \u001b[0;32mNone\u001b[0m\u001b[0;34m)\u001b[0m\u001b[0;34m,\u001b[0m\u001b[0;34m\u001b[0m\u001b[0;34m\u001b[0m\u001b[0m\n\u001b[0;32m--> 229\u001b[0;31m             \u001b[0merrors\u001b[0m\u001b[0;34m=\u001b[0m\u001b[0mkwds\u001b[0m\u001b[0;34m.\u001b[0m\u001b[0mget\u001b[0m\u001b[0;34m(\u001b[0m\u001b[0;34m\"encoding_errors\"\u001b[0m\u001b[0;34m,\u001b[0m \u001b[0;34m\"strict\"\u001b[0m\u001b[0;34m)\u001b[0m\u001b[0;34m,\u001b[0m\u001b[0;34m\u001b[0m\u001b[0;34m\u001b[0m\u001b[0m\n\u001b[0m\u001b[1;32m    230\u001b[0m         )\n\u001b[1;32m    231\u001b[0m \u001b[0;34m\u001b[0m\u001b[0m\n",
            "\u001b[0;32m/usr/local/lib/python3.7/dist-packages/pandas/io/common.py\u001b[0m in \u001b[0;36mget_handle\u001b[0;34m(path_or_buf, mode, encoding, compression, memory_map, is_text, errors, storage_options)\u001b[0m\n\u001b[1;32m    705\u001b[0m                 \u001b[0mencoding\u001b[0m\u001b[0;34m=\u001b[0m\u001b[0mioargs\u001b[0m\u001b[0;34m.\u001b[0m\u001b[0mencoding\u001b[0m\u001b[0;34m,\u001b[0m\u001b[0;34m\u001b[0m\u001b[0;34m\u001b[0m\u001b[0m\n\u001b[1;32m    706\u001b[0m                 \u001b[0merrors\u001b[0m\u001b[0;34m=\u001b[0m\u001b[0merrors\u001b[0m\u001b[0;34m,\u001b[0m\u001b[0;34m\u001b[0m\u001b[0;34m\u001b[0m\u001b[0m\n\u001b[0;32m--> 707\u001b[0;31m                 \u001b[0mnewline\u001b[0m\u001b[0;34m=\u001b[0m\u001b[0;34m\"\"\u001b[0m\u001b[0;34m,\u001b[0m\u001b[0;34m\u001b[0m\u001b[0;34m\u001b[0m\u001b[0m\n\u001b[0m\u001b[1;32m    708\u001b[0m             )\n\u001b[1;32m    709\u001b[0m         \u001b[0;32melse\u001b[0m\u001b[0;34m:\u001b[0m\u001b[0;34m\u001b[0m\u001b[0;34m\u001b[0m\u001b[0m\n",
            "\u001b[0;31mFileNotFoundError\u001b[0m: [Errno 2] No such file or directory: '/content/OptiCommPy/test14_compressed.txt'"
          ]
        }
      ]
    },
    {
      "cell_type": "code",
      "source": [
        "data = scio.loadmat('/content/OptiCommPy/EncodedData.mat')"
      ],
      "metadata": {
        "id": "dghVBzvMmeqa",
        "colab": {
          "base_uri": "https://localhost:8080/"
        },
        "outputId": "42adae38-6594-41dc-d413-1f93fc030d72"
      },
      "id": "dghVBzvMmeqa",
      "execution_count": 3,
      "outputs": [
        {
          "output_type": "stream",
          "name": "stderr",
          "text": [
            "/usr/local/lib/python3.7/dist-packages/scipy/io/matlab/mio.py:226: MatReadWarning: Duplicate variable name \"None\" in stream - replacing previous with new\n",
            "Consider mio5.varmats_from_mat to split file into single variable files\n",
            "  matfile_dict = MR.get_variables(variable_names)\n"
          ]
        }
      ]
    },
    {
      "cell_type": "code",
      "source": [
        "bits =  data['EncodedData']"
      ],
      "metadata": {
        "id": "tL0WStdaxpnJ"
      },
      "id": "tL0WStdaxpnJ",
      "execution_count": 4,
      "outputs": []
    },
    {
      "cell_type": "code",
      "source": [
        "bits = np.array(bits)"
      ],
      "metadata": {
        "id": "2HBQRCLpyBOy"
      },
      "id": "2HBQRCLpyBOy",
      "execution_count": 5,
      "outputs": []
    },
    {
      "cell_type": "code",
      "source": [
        "bits.shape"
      ],
      "metadata": {
        "id": "b_flr-GMyOSi",
        "colab": {
          "base_uri": "https://localhost:8080/"
        },
        "outputId": "59ff660a-d94d-47c9-e816-604c5da74958"
      },
      "id": "b_flr-GMyOSi",
      "execution_count": 6,
      "outputs": [
        {
          "output_type": "execute_result",
          "data": {
            "text/plain": [
              "(25200, 27)"
            ]
          },
          "metadata": {},
          "execution_count": 6
        }
      ]
    },
    {
      "cell_type": "code",
      "source": [
        "bits_T = np.zeros((680400,1), dtype='uint8')"
      ],
      "metadata": {
        "id": "XObgpVizBH2B"
      },
      "id": "XObgpVizBH2B",
      "execution_count": 7,
      "outputs": []
    },
    {
      "cell_type": "code",
      "source": [
        "bits_T.shape"
      ],
      "metadata": {
        "colab": {
          "base_uri": "https://localhost:8080/"
        },
        "id": "HiDqpYoBBxKC",
        "outputId": "e7b09bb1-fe7b-442e-df22-543ea35326c5"
      },
      "id": "HiDqpYoBBxKC",
      "execution_count": 8,
      "outputs": [
        {
          "output_type": "execute_result",
          "data": {
            "text/plain": [
              "(680400, 1)"
            ]
          },
          "metadata": {},
          "execution_count": 8
        }
      ]
    },
    {
      "cell_type": "code",
      "source": [
        "for i in range(27):\n",
        "  bits_T[i*25200:(i+1)*25200,0] = bits[:,i]\n",
        "for i in range(680400):\n",
        "  bits_T[i,0]=int(bits_T[i,0])\n"
      ],
      "metadata": {
        "id": "OcWI-vxYASGM"
      },
      "id": "OcWI-vxYASGM",
      "execution_count": 9,
      "outputs": []
    },
    {
      "cell_type": "code",
      "source": [
        "for i in range(680400):\n",
        "  bits_T[i,0]=int(bits_T[i,0])"
      ],
      "metadata": {
        "id": "rLDcSI1jDrNA"
      },
      "id": "rLDcSI1jDrNA",
      "execution_count": null,
      "outputs": []
    },
    {
      "cell_type": "code",
      "source": [
        "bits_T = bits_T.reshape(680400,1)"
      ],
      "metadata": {
        "id": "p8DSLT77Cfl8"
      },
      "id": "p8DSLT77Cfl8",
      "execution_count": 10,
      "outputs": []
    },
    {
      "cell_type": "code",
      "source": [
        "bits_T[0:12,0]"
      ],
      "metadata": {
        "colab": {
          "base_uri": "https://localhost:8080/"
        },
        "id": "JpAqhyxPDJP5",
        "outputId": "91117817-6726-47b3-c5aa-08dda75c7729"
      },
      "id": "JpAqhyxPDJP5",
      "execution_count": 11,
      "outputs": [
        {
          "output_type": "execute_result",
          "data": {
            "text/plain": [
              "array([0, 0, 0, 1, 0, 1, 1, 1, 0, 0, 0, 0], dtype=uint8)"
            ]
          },
          "metadata": {},
          "execution_count": 11
        }
      ]
    },
    {
      "cell_type": "code",
      "source": [
        "bits[0:12,1]"
      ],
      "metadata": {
        "colab": {
          "base_uri": "https://localhost:8080/"
        },
        "id": "1LIWFiOVC8Sl",
        "outputId": "44ae8889-bf97-48b9-b12c-4d46f12f38fc"
      },
      "id": "1LIWFiOVC8Sl",
      "execution_count": 12,
      "outputs": [
        {
          "output_type": "execute_result",
          "data": {
            "text/plain": [
              "array([0, 1, 1, 0, 0, 0, 1, 0, 1, 0, 0, 0], dtype=uint8)"
            ]
          },
          "metadata": {},
          "execution_count": 12
        }
      ]
    },
    {
      "cell_type": "markdown",
      "source": [
        "数据中心之间的距离，标准，"
      ],
      "metadata": {
        "id": "zoyb1rR7Zocj"
      },
      "id": "zoyb1rR7Zocj"
    },
    {
      "cell_type": "code",
      "source": [
        "a = X.shape[0]\n",
        "bits_T = np.zeros((a,8),dtype=np.int)\n",
        "Y = X\n",
        "for i in range(a):\n",
        "  if Y[i] < 0:\n",
        "    Y[i]=Y[i]+256\n",
        "  lat = Y[i] \n",
        "  for j in range(8):\n",
        "      \n",
        "    bits_T[i,7-j] = lat % 2\n",
        "    lat = (lat-bits_T[i,7-j])/2\n",
        "\n",
        "bits_T = bits_T.reshape(a*8)\n",
        "bits_T = bits_T.squeeze()"
      ],
      "metadata": {
        "colab": {
          "base_uri": "https://localhost:8080/",
          "height": 245
        },
        "id": "KkaVYPF1EJKa",
        "outputId": "9ea1b9cd-bb8b-46b9-f020-b52fe8350dfd"
      },
      "id": "KkaVYPF1EJKa",
      "execution_count": null,
      "outputs": [
        {
          "output_type": "error",
          "ename": "NameError",
          "evalue": "ignored",
          "traceback": [
            "\u001b[0;31m---------------------------------------------------------------------------\u001b[0m",
            "\u001b[0;31mNameError\u001b[0m                                 Traceback (most recent call last)",
            "\u001b[0;32m<ipython-input-10-589ed4bcfa90>\u001b[0m in \u001b[0;36m<module>\u001b[0;34m\u001b[0m\n\u001b[0;32m----> 1\u001b[0;31m \u001b[0ma\u001b[0m \u001b[0;34m=\u001b[0m \u001b[0mX\u001b[0m\u001b[0;34m.\u001b[0m\u001b[0mshape\u001b[0m\u001b[0;34m[\u001b[0m\u001b[0;36m0\u001b[0m\u001b[0;34m]\u001b[0m\u001b[0;34m\u001b[0m\u001b[0;34m\u001b[0m\u001b[0m\n\u001b[0m\u001b[1;32m      2\u001b[0m \u001b[0mbits_T\u001b[0m \u001b[0;34m=\u001b[0m \u001b[0mnp\u001b[0m\u001b[0;34m.\u001b[0m\u001b[0mzeros\u001b[0m\u001b[0;34m(\u001b[0m\u001b[0;34m(\u001b[0m\u001b[0ma\u001b[0m\u001b[0;34m,\u001b[0m\u001b[0;36m8\u001b[0m\u001b[0;34m)\u001b[0m\u001b[0;34m,\u001b[0m\u001b[0mdtype\u001b[0m\u001b[0;34m=\u001b[0m\u001b[0mnp\u001b[0m\u001b[0;34m.\u001b[0m\u001b[0mint\u001b[0m\u001b[0;34m)\u001b[0m\u001b[0;34m\u001b[0m\u001b[0;34m\u001b[0m\u001b[0m\n\u001b[1;32m      3\u001b[0m \u001b[0mY\u001b[0m \u001b[0;34m=\u001b[0m \u001b[0mX\u001b[0m\u001b[0;34m\u001b[0m\u001b[0;34m\u001b[0m\u001b[0m\n\u001b[1;32m      4\u001b[0m \u001b[0;32mfor\u001b[0m \u001b[0mi\u001b[0m \u001b[0;32min\u001b[0m \u001b[0mrange\u001b[0m\u001b[0;34m(\u001b[0m\u001b[0ma\u001b[0m\u001b[0;34m)\u001b[0m\u001b[0;34m:\u001b[0m\u001b[0;34m\u001b[0m\u001b[0;34m\u001b[0m\u001b[0m\n\u001b[1;32m      5\u001b[0m   \u001b[0;32mif\u001b[0m \u001b[0mY\u001b[0m\u001b[0;34m[\u001b[0m\u001b[0mi\u001b[0m\u001b[0;34m]\u001b[0m \u001b[0;34m<\u001b[0m \u001b[0;36m0\u001b[0m\u001b[0;34m:\u001b[0m\u001b[0;34m\u001b[0m\u001b[0;34m\u001b[0m\u001b[0m\n",
            "\u001b[0;31mNameError\u001b[0m: name 'X' is not defined"
          ]
        }
      ]
    },
    {
      "cell_type": "code",
      "source": [
        "bits_T.shape"
      ],
      "metadata": {
        "id": "f9k302QfGF-A"
      },
      "id": "f9k302QfGF-A",
      "execution_count": null,
      "outputs": []
    },
    {
      "cell_type": "code",
      "source": [
        "bits_T_matlab = bits_T.reshape(528208,1)"
      ],
      "metadata": {
        "id": "GFHwT1rBrMxK"
      },
      "id": "GFHwT1rBrMxK",
      "execution_count": null,
      "outputs": []
    },
    {
      "cell_type": "code",
      "source": [
        "bits_T_matlab"
      ],
      "metadata": {
        "id": "po2vaGJ6rZxP"
      },
      "id": "po2vaGJ6rZxP",
      "execution_count": null,
      "outputs": []
    },
    {
      "cell_type": "code",
      "source": [
        "dataNew = './transmitted_bits.mat'\n",
        "scio.savemat(dataNew, {'bits': bits_T_matlab})"
      ],
      "metadata": {
        "id": "CPbC1fO8mj6-"
      },
      "id": "CPbC1fO8mj6-",
      "execution_count": null,
      "outputs": []
    },
    {
      "cell_type": "code",
      "source": [
        "np.savetxt(\"./transmit_bits.csv\", bits_T, delimiter=',')"
      ],
      "metadata": {
        "id": "8491goyi3ukv"
      },
      "id": "8491goyi3ukv",
      "execution_count": null,
      "outputs": []
    },
    {
      "cell_type": "code",
      "execution_count": null,
      "id": "7df01820",
      "metadata": {
        "ExecuteTime": {
          "end_time": "2021-10-26T18:48:17.972489Z",
          "start_time": "2021-10-26T18:48:17.958497Z"
        },
        "id": "7df01820"
      },
      "outputs": [],
      "source": [
        "from IPython.core.display import HTML\n",
        "from IPython.core.pylabtools import figsize\n",
        "\n",
        "HTML(\"\"\"\n",
        "<style>\n",
        ".output_png {\n",
        "    display: table-cell;\n",
        "    text-align: center;\n",
        "    vertical-align: middle;\n",
        "}\n",
        "</style>\n",
        "\"\"\")"
      ]
    },
    {
      "cell_type": "code",
      "execution_count": null,
      "id": "b8626f68",
      "metadata": {
        "ExecuteTime": {
          "end_time": "2021-10-26T18:48:17.988479Z",
          "start_time": "2021-10-26T18:48:17.976487Z"
        },
        "id": "b8626f68"
      },
      "outputs": [],
      "source": [
        "figsize(10, 3)"
      ]
    },
    {
      "cell_type": "code",
      "execution_count": null,
      "id": "fc09c144",
      "metadata": {
        "ExecuteTime": {
          "end_time": "2021-10-26T18:48:18.222046Z",
          "start_time": "2021-10-26T18:48:17.991479Z"
        },
        "id": "fc09c144"
      },
      "outputs": [],
      "source": [
        "#%load_ext autoreload\n",
        "#%autoreload 2\n",
        "#%load_ext line_profiler"
      ]
    },
    {
      "cell_type": "markdown",
      "source": [
        "# tx\n",
        "\n"
      ],
      "metadata": {
        "id": "8O69fD0uETom"
      },
      "id": "8O69fD0uETom"
    },
    {
      "cell_type": "code",
      "source": [
        "import numpy as np\n",
        "from commpy.utilities import upsample\n",
        "\n",
        "from optic.dsp import pulseShape\n",
        "from optic.metrics import signal_power\n",
        "from optic.models import iqm\n",
        "from optic.modulation import GrayMapping, modulateGray\n",
        "\n",
        "try:\n",
        "    from optic.dspGPU import firFilter\n",
        "except:\n",
        "    from optic.dsp import firFilter\n",
        "\n",
        "def simpleWDMTx(param):\n",
        "    \"\"\"\n",
        "    Simple WDM transmitter\n",
        "\n",
        "    Generates a complex baseband waveform representing a WDM signal with\n",
        "    arbitrary number of carriers\n",
        "\n",
        "    :param.M: modulation order [default: 16]\n",
        "    :param.constType: 'qam' or 'psk' [default: 'qam']\n",
        "    :param.Rs: carrier baud rate [baud][default: 32e9]\n",
        "    :param.SpS: samples per symbol [default: 16]\n",
        "    :param.Nbits: total number of bits per carrier [default: 60000]\n",
        "    :param.pulse: pulse shape ['nrz', 'rrc'][default: 'rrc']\n",
        "    :param.Ntaps: number of coefficients of the rrc filter [default: 4096]\n",
        "    :param.alphaRRC: rolloff do rrc filter [default: 0.01]\n",
        "    :param.Pch_dBm: launched power per WDM channel [dBm][default:-3 dBm]\n",
        "    :param.Nch: number of WDM channels [default: 5]\n",
        "    :param.Fc: central frequency of the WDM spectrum [Hz][default: 193.1e12 Hz]\n",
        "    :param.freqSpac: frequency spacing of the WDM grid [Hz][default: 40e9 Hz]\n",
        "    :param.Nmodes: number of polarization modes [default: 1]\n",
        "\n",
        "    \"\"\"\n",
        "    # check input parameters\n",
        "    param.M = getattr(param, \"M\", 16)\n",
        "    param.constType = getattr(param,'constType','qam')\n",
        "    param.Rs = getattr(param, \"Rs\", 32e9)\n",
        "    param.SpS = getattr(param, \"SpS\", 16)\n",
        "    param.Nbits = getattr(param, \"Nbits\", 60000)\n",
        "    param.pulse = getattr(param, \"pulse\", \"rrc\")\n",
        "    param.Ntaps = getattr(param, \"Ntaps\", 4096)\n",
        "    param.alphaRRC = getattr(param, \"alphaRRC\", 0.01)\n",
        "    param.Pch_dBm = getattr(param, \"Pch_dBm\", -3)\n",
        "    param.Nch = getattr(param, \"Nch\", 5)\n",
        "    param.Fc = getattr(param, \"Fc\", 193.1e12)\n",
        "    param.freqSpac = getattr(param, \"freqSpac\", 50e9)\n",
        "    param.Nmodes = getattr(param, \"Nmodes\", 1)\n",
        "\n",
        "    # transmitter parameters\n",
        "    Ts = 1 / param.Rs  # symbol period [s]\n",
        "    Fsa = 1 / (Ts / param.SpS)  # sampling frequency [samples/s]\n",
        "\n",
        "    # central frequencies of the WDM channels\n",
        "    freqGrid = (\n",
        "        np.arange(-np.floor(param.Nch / 2), np.floor(param.Nch / 2) + 1, 1)\n",
        "        * param.freqSpac\n",
        "    )\n",
        "\n",
        "    if (param.Nch % 2) == 0:\n",
        "        freqGrid += param.freqSpac / 2\n",
        "\n",
        "    # IQM parameters\n",
        "    Ai = 1\n",
        "    Vπ = 2\n",
        "    Vb = -Vπ\n",
        "\n",
        "    if type(param.Pch_dBm) == list:\n",
        "        assert (\n",
        "            len(param.Pch_dBm) == param.Nch\n",
        "        ), \"list length of power per channel does not match number of channels.\"\n",
        "        Pch = (\n",
        "            10 ** (np.array(param.Pch_dBm) / 10) * 1e-3\n",
        "        )  # optical signal power per WDM channel\n",
        "    else:\n",
        "        Pch = 10 ** (param.Pch_dBm / 10) * 1e-3\n",
        "        Pch = Pch * np.ones(param.Nch)\n",
        "\n",
        "    π = np.pi\n",
        "    # time array\n",
        "    t = np.arange(0, int(((param.Nbits) / np.log2(param.M)) * param.SpS))\n",
        "\n",
        "    # allocate array\n",
        "    sigTxWDM = np.zeros((len(t), param.Nmodes), dtype=\"complex\")\n",
        "    symbTxWDM = np.zeros(\n",
        "        (int(len(t) / param.SpS), param.Nmodes, param.Nch), dtype=\"complex\"\n",
        "    )\n",
        "\n",
        "    Psig = 0\n",
        "\n",
        "    # constellation symbols info\n",
        "    const = GrayMapping(param.M, param.constType)\n",
        "    Es = np.mean(np.abs(const)**2)    \n",
        "\n",
        "    # pulse shaping filter\n",
        "    if param.pulse == \"nrz\":\n",
        "        pulse = pulseShape(\"nrz\", param.SpS)\n",
        "    elif param.pulse == \"rrc\":\n",
        "        pulse = pulseShape(\"rrc\", param.SpS, N=param.Ntaps, alpha=param.alphaRRC, Ts=Ts)\n",
        "\n",
        "    pulse = pulse / np.max(np.abs(pulse))\n",
        "\n",
        "    for indCh in range(0, param.Nch):\n",
        "\n",
        "        print(\n",
        "            \"channel %d\\t fc : %3.4f THz\" % (indCh, (param.Fc + freqGrid[indCh]) / 1e12)\n",
        "        )\n",
        "\n",
        "        Pmode = 0\n",
        "        for indMode in range(0, param.Nmodes):\n",
        "            print(\n",
        "                \"  mode #%d\\t power: %.2f dBm\"\n",
        "                % (indMode, 10 * np.log10((Pch[indCh] / param.Nmodes) / 1e-3))\n",
        "            )\n",
        "\n",
        "            # generate random bits\n",
        "            bitsTx = bits_T\n",
        "\n",
        "            # map bits to constellation symbols            \n",
        "            symbTx = modulateGray(bitsTx, param.M, param.constType)\n",
        "\n",
        "            # normalize symbols energy to 1\n",
        "            symbTx = symbTx / np.sqrt(Es)\n",
        "\n",
        "            symbTxWDM[:, indMode, indCh] = symbTx\n",
        "\n",
        "            # upsampling\n",
        "            symbolsUp = upsample(symbTx, param.SpS)\n",
        "\n",
        "            # pulse shaping\n",
        "            sigTx = firFilter(pulse, symbolsUp)\n",
        "\n",
        "            # optical modulation\n",
        "            sigTxCh = iqm(Ai, 0.5 * sigTx, Vπ, Vb, Vb)\n",
        "            sigTxCh = (\n",
        "                np.sqrt(Pch[indCh] / param.Nmodes)\n",
        "                * sigTxCh\n",
        "                / np.sqrt(signal_power(sigTxCh))\n",
        "            )\n",
        "\n",
        "            sigTxWDM[:, indMode] += sigTxCh * np.exp(\n",
        "                1j * 2 * π * (freqGrid[indCh] / Fsa) * t\n",
        "            )\n",
        "\n",
        "            Pmode += signal_power(sigTxCh)\n",
        "\n",
        "        Psig += Pmode\n",
        "\n",
        "        print(\"channel %d\\t power: %.2f dBm\\n\" % (indCh, 10 * np.log10(Pmode / 1e-3)))\n",
        "\n",
        "    print(\"total WDM signal power: %.2f dBm\" % (10 * np.log10(Psig / 1e-3)))\n",
        "\n",
        "    param.freqGrid = freqGrid\n",
        "\n",
        "    return sigTxWDM, symbTxWDM, param, Es, symbTx"
      ],
      "metadata": {
        "id": "JgQv8eBPMBSm"
      },
      "id": "JgQv8eBPMBSm",
      "execution_count": 13,
      "outputs": []
    },
    {
      "cell_type": "markdown",
      "id": "d6ba23aa",
      "metadata": {
        "id": "d6ba23aa"
      },
      "source": [
        "# Simulation of coherent WDM transmission"
      ]
    },
    {
      "cell_type": "markdown",
      "id": "e22e32db",
      "metadata": {
        "id": "e22e32db"
      },
      "source": [
        "\n",
        "## Transmitter"
      ]
    },
    {
      "cell_type": "markdown",
      "id": "f01da2ca",
      "metadata": {
        "id": "f01da2ca"
      },
      "source": [
        "**Polarization multiplexed WDM signal generation**"
      ]
    },
    {
      "cell_type": "code",
      "execution_count": 14,
      "id": "51257869",
      "metadata": {
        "ExecuteTime": {
          "end_time": "2021-10-26T18:49:04.294807Z",
          "start_time": "2021-10-26T18:48:18.476324Z"
        },
        "lines_to_next_cell": 0,
        "id": "51257869",
        "outputId": "0b24f719-0697-4753-d9cf-8d51257f662f",
        "colab": {
          "base_uri": "https://localhost:8080/"
        }
      },
      "outputs": [
        {
          "output_type": "stream",
          "name": "stdout",
          "text": [
            "channel 0\t fc : 227.7635 THz\n",
            "  mode #0\t power: -2.01 dBm\n",
            "  mode #1\t power: -2.01 dBm\n",
            "channel 0\t power: 1.00 dBm\n",
            "\n",
            "channel 1\t fc : 229.5212 THz\n",
            "  mode #0\t power: -2.01 dBm\n",
            "  mode #1\t power: -2.01 dBm\n",
            "channel 1\t power: 1.00 dBm\n",
            "\n",
            "channel 2\t fc : 231.2789 THz\n",
            "  mode #0\t power: -2.01 dBm\n",
            "  mode #1\t power: -2.01 dBm\n",
            "channel 2\t power: 1.00 dBm\n",
            "\n",
            "channel 3\t fc : 233.0366 THz\n",
            "  mode #0\t power: -2.01 dBm\n",
            "  mode #1\t power: -2.01 dBm\n",
            "channel 3\t power: 1.00 dBm\n",
            "\n",
            "total WDM signal power: 7.02 dBm\n"
          ]
        }
      ],
      "source": [
        "# Transmitter parameters:\n",
        "paramTx = parameters()\n",
        "paramTx.M   = 16           # order of the modulation format\n",
        "paramTx.Rs  = 25e9         # symbol rate [baud]\n",
        "paramTx.SpS = 16           # samples per symbol\n",
        "paramTx.Nbits = 680400#528208     # total number of bits per polarization\n",
        "paramTx.pulse = 'rrc'      # pulse shaping filter\n",
        "paramTx.Ntaps = 1024       # number of pulse shaping filter coefficients\n",
        "paramTx.alphaRRC = 0.01    # RRC rolloff\n",
        "paramTx.Pch_dBm = 1        # power per WDM channel [dBm]\n",
        "paramTx.Nch     = 4       # number of WDM channels\n",
        "paramTx.Fc      = 230.4e12 # central optical frequency of the WDM spectrum\n",
        "paramTx.freqSpac = 1757.7e9  # WDM grid spacing\n",
        "paramTx.Nmodes = 2         # number of signal modes [2 for polarization multiplexed signals]\n",
        "\n",
        "# generate WDM signal\n",
        "sigWDM_Tx, symbTx_, paramTx, Es, symbTx = simpleWDMTx(paramTx)"
      ]
    },
    {
      "cell_type": "code",
      "source": [
        "symbTx[0:4]"
      ],
      "metadata": {
        "colab": {
          "base_uri": "https://localhost:8080/"
        },
        "id": "H9Cjy7gaHUI7",
        "outputId": "fc7c96d7-1b52-4bef-db1e-079aa7116d9a"
      },
      "id": "H9Cjy7gaHUI7",
      "execution_count": 18,
      "outputs": [
        {
          "output_type": "execute_result",
          "data": {
            "text/plain": [
              "array([-0.9486833 +0.31622777j, -0.31622777-0.31622777j,\n",
              "       -0.9486833 +0.9486833j , -0.9486833 +0.9486833j ])"
            ]
          },
          "metadata": {},
          "execution_count": 18
        }
      ]
    },
    {
      "cell_type": "markdown",
      "id": "0cb851bf",
      "metadata": {
        "id": "0cb851bf"
      },
      "source": [
        "**Nonlinear fiber propagation with the split-step Fourier method**"
      ]
    },
    {
      "cell_type": "code",
      "execution_count": 23,
      "id": "05599d49",
      "metadata": {
        "ExecuteTime": {
          "end_time": "2021-10-26T19:03:50.033410Z",
          "start_time": "2021-10-26T18:49:04.299804Z"
        },
        "scrolled": false,
        "id": "05599d49",
        "outputId": "e2678ce5-a4b0-4b08-dfa0-d5e484a21ac0",
        "colab": {
          "base_uri": "https://localhost:8080/",
          "height": 49,
          "referenced_widgets": [
            "653ff3f159834017b62b88fb6bcd1a0a",
            "e2f25474f4434762b035bf685cc3a992",
            "6ccd822f99fe42a78062808db050d6b9",
            "d5f546f010a1438c90dc03ea69f099b2",
            "c46065818f0747d5a3524065aa34ed82",
            "eac45e3d176544a7a90e87d87b99fe52",
            "41bcfca83b024ee9974ae0026a910aab",
            "c6950f3397784fcb8d694ac1a4a3a14d",
            "6c47c6ea4c7f458385a70f30903fd184",
            "c52da78eefaa450d82fc87281e965bdb",
            "be22006e314c4676ab918eb9076ec3d8"
          ]
        }
      },
      "outputs": [
        {
          "output_type": "display_data",
          "data": {
            "text/plain": [
              "  0%|          | 0/6 [00:00<?, ?it/s]"
            ],
            "application/vnd.jupyter.widget-view+json": {
              "version_major": 2,
              "version_minor": 0,
              "model_id": "653ff3f159834017b62b88fb6bcd1a0a"
            }
          },
          "metadata": {}
        }
      ],
      "source": [
        "# optical channel parameters\n",
        "paramCh = parameters()\n",
        "paramCh.Ltotal = 120     # total link distance [km]\n",
        "paramCh.Lspan  = 20      # span length [km]\n",
        "paramCh.alpha = 0.2      # fiber loss parameter [dB/km]\n",
        "paramCh.D = 16           # fiber dispersion parameter [ps/nm/km]\n",
        "paramCh.gamma = 1.3      # fiber nonlinear parameter [1/(W.km)]\n",
        "paramCh.Fc = paramTx.Fc  # central optical frequency of the WDM spectrum\n",
        "paramCh.hz = 0.1         # step-size of the split-step Fourier method [km]\n",
        "\n",
        "Fs = paramTx.Rs*paramTx.SpS # sampling rate\n",
        "\n",
        "# nonlinear signal propagation\n",
        "sigWDM, paramCh = manakovSSF(sigWDM_Tx, Fs, paramCh)"
      ]
    },
    {
      "cell_type": "markdown",
      "id": "45da6d22",
      "metadata": {
        "id": "45da6d22"
      },
      "source": [
        "**Optical WDM spectrum before and after transmission**"
      ]
    },
    {
      "cell_type": "code",
      "execution_count": 24,
      "id": "489a01ea",
      "metadata": {
        "ExecuteTime": {
          "end_time": "2021-10-26T19:03:50.738617Z",
          "start_time": "2021-10-26T19:03:50.037407Z"
        },
        "lines_to_next_cell": 2,
        "id": "489a01ea",
        "outputId": "b14771d0-b3a5-4240-df0e-22ce9c189029",
        "colab": {
          "base_uri": "https://localhost:8080/",
          "height": 241
        }
      },
      "outputs": [
        {
          "output_type": "display_data",
          "data": {
            "text/plain": [
              "<Figure size 720x216 with 1 Axes>"
            ],
            "image/png": "[encoded data removed]"
          },
          "metadata": {
            "needs_background": "light"
          }
        }
      ],
      "source": [
        "# plot psd\n",
        "plt.figure(figsize=(10, 3))\n",
        "plt.xlim(paramCh.Fc-Fs/2,paramCh.Fc+Fs/2);\n",
        "plt.psd(sigWDM_Tx[:,0], Fs=Fs, Fc=paramCh.Fc, NFFT = 4*1024, sides='twosided', label = 'WDM spectrum - Tx')\n",
        "plt.psd(sigWDM[:,0], Fs=Fs, Fc=paramCh.Fc, NFFT = 4*1024, sides='twosided', label = 'WDM spectrum - Rx')\n",
        "plt.legend(loc='lower left')\n",
        "plt.title('optical WDM spectrum');"
      ]
    },
    {
      "cell_type": "markdown",
      "id": "f291b19a",
      "metadata": {
        "id": "f291b19a"
      },
      "source": [
        "### WDM channels coherent detection and demodulation"
      ]
    },
    {
      "cell_type": "code",
      "execution_count": 25,
      "id": "76945fb5",
      "metadata": {
        "ExecuteTime": {
          "end_time": "2021-10-26T19:28:38.851455Z",
          "start_time": "2021-10-26T19:28:30.894262Z"
        },
        "id": "76945fb5",
        "outputId": "05a2c312-fb5c-47a9-a41a-3e4d7630048e",
        "colab": {
          "base_uri": "https://localhost:8080/",
          "height": 282
        }
      },
      "outputs": [
        {
          "output_type": "stream",
          "name": "stdout",
          "text": [
            "Demodulating channel #2 , fc: 231.2789 THz, λ: 1296.2381 nm\n",
            "\n",
            "Local oscillator P: 10.00 dBm, lw: 200.00 kHz, FO: 0.00 MHz\n",
            "\n"
          ]
        },
        {
          "output_type": "display_data",
          "data": {
            "text/plain": [
              "<Figure size 432x288 with 2 Axes>"
            ],
            "image/png": "[encoded data removed]"
          },
          "metadata": {
            "needs_background": "light"
          }
        }
      ],
      "source": [
        "# Receiver\n",
        "\n",
        "# parameters\n",
        "chIndex  = 2     # index of the channel to be demodulated\n",
        "plotPSD  = True\n",
        "\n",
        "Fc = paramCh.Fc\n",
        "Ts = 1/Fs\n",
        "mod = QAMModem(m=paramTx.M)\n",
        "\n",
        "freqGrid = paramTx.freqGrid\n",
        "print('Demodulating channel #%d , fc: %.4f THz, λ: %.4f nm\\n'\\\n",
        "      %(chIndex, (Fc + freqGrid[chIndex])/1e12, const.c/(Fc + freqGrid[chIndex])/1e-9))\n",
        "\n",
        "symbTx = symbTx_[:,:,chIndex]\n",
        "\n",
        "# local oscillator (LO) parameters:\n",
        "FO      = 0*64e6                # frequency offset\n",
        "Δf_lo   = freqGrid[chIndex]+FO  # downshift of the channel to be demodulated\n",
        "lw      = 200e3                 # linewidth\n",
        "Plo_dBm = 10                    # power in dBm\n",
        "Plo     = 10**(Plo_dBm/10)*1e-3 # power in W\n",
        "ϕ_lo    = 0                     # initial phase in rad    \n",
        "\n",
        "print('Local oscillator P: %.2f dBm, lw: %.2f kHz, FO: %.2f MHz\\n'\\\n",
        "      %(Plo_dBm, lw/1e3, FO/1e6))\n",
        "\n",
        "# generate LO field\n",
        "π       = np.pi\n",
        "t       = np.arange(0, len(sigWDM))*Ts\n",
        "ϕ_pn_lo = phaseNoise(lw, len(sigWDM), Ts)\n",
        "sigLO   = np.sqrt(Plo)*np.exp(1j*(2*π*Δf_lo*t + ϕ_lo + ϕ_pn_lo))\n",
        "\n",
        "# polarization multiplexed coherent optical receiver\n",
        "sigRx = pdmCoherentReceiver(sigWDM, sigLO, θsig = π/3)\n",
        "\n",
        "# plot constellations\n",
        "pconst(sigRx[0::paramTx.SpS,:], lim=True, R=3)"
      ]
    },
    {
      "cell_type": "markdown",
      "id": "1cbf39db",
      "metadata": {
        "id": "1cbf39db"
      },
      "source": [
        "### Matched filtering and CD compensation"
      ]
    },
    {
      "cell_type": "code",
      "execution_count": 26,
      "id": "065d823a",
      "metadata": {
        "ExecuteTime": {
          "end_time": "2021-10-26T19:28:38.851455Z",
          "start_time": "2021-10-26T19:28:30.894262Z"
        },
        "id": "065d823a",
        "outputId": "ea22f5e1-1946-47df-e551-dbf68939b187",
        "colab": {
          "base_uri": "https://localhost:8080/",
          "height": 0
        }
      },
      "outputs": [
        {
          "output_type": "display_data",
          "data": {
            "text/plain": [
              "<Figure size 432x288 with 2 Axes>"
            ],
            "image/png": "[encoded data removed]"
          },
          "metadata": {
            "needs_background": "light"
          }
        },
        {
          "output_type": "display_data",
          "data": {
            "text/plain": [
              "<Figure size 432x288 with 2 Axes>"
            ],
            "image/png": "[encoded data removed]"
          },
          "metadata": {
            "needs_background": "light"
          }
        }
      ],
      "source": [
        "# Rx filtering\n",
        "\n",
        "# Matched filtering\n",
        "if paramTx.pulse == 'nrz':\n",
        "    pulse = pulseShape('nrz', paramTx.SpS)\n",
        "elif paramTx.pulse == 'rrc':\n",
        "    pulse = pulseShape('rrc', paramTx.SpS, N=paramTx.Ntaps, alpha=paramTx.alphaRRC, Ts=1/paramTx.Rs)\n",
        "    \n",
        "pulse = pulse/np.max(np.abs(pulse))            \n",
        "sigRx = firFilter(pulse, sigRx)\n",
        "\n",
        "# plot constellations after matched filtering\n",
        "pconst(sigRx[0::paramTx.SpS,:], lim=True, R=3)\n",
        "\n",
        "# CD compensation\n",
        "sigRx = edc(sigRx, paramCh.Ltotal, paramCh.D, Fc-Δf_lo, Fs)\n",
        "\n",
        "# plot constellations after CD compensation\n",
        "pconst(sigRx[0::paramTx.SpS,:], lim=True, R=3)"
      ]
    },
    {
      "cell_type": "markdown",
      "id": "901da914",
      "metadata": {
        "id": "901da914"
      },
      "source": [
        "### Downsampling to 2 samples/symbol and re-synchronization with transmitted sequences"
      ]
    },
    {
      "cell_type": "code",
      "execution_count": 27,
      "id": "0d7e62a5",
      "metadata": {
        "ExecuteTime": {
          "end_time": "2021-10-26T19:28:39.214268Z",
          "start_time": "2021-10-26T19:28:38.853454Z"
        },
        "id": "0d7e62a5"
      },
      "outputs": [],
      "source": [
        "# decimation抽取\n",
        "paramDec = parameters()\n",
        "paramDec.SpS_in  = paramTx.SpS\n",
        "paramDec.SpS_out = 2\n",
        "sigRx = decimate(sigRx, paramDec)\n",
        "\n",
        "symbRx = symbolSync(sigRx, symbTx, 2)"
      ]
    },
    {
      "cell_type": "code",
      "source": [
        "symbRx.shape"
      ],
      "metadata": {
        "colab": {
          "base_uri": "https://localhost:8080/"
        },
        "id": "Sizpaibn5v3c",
        "outputId": "1ac1b65f-2a52-4b64-9b99-2f7680d75e95"
      },
      "id": "Sizpaibn5v3c",
      "execution_count": 28,
      "outputs": [
        {
          "output_type": "execute_result",
          "data": {
            "text/plain": [
              "(170100, 2)"
            ]
          },
          "metadata": {},
          "execution_count": 28
        }
      ]
    },
    {
      "cell_type": "code",
      "source": [
        "symbRx[0]"
      ],
      "metadata": {
        "colab": {
          "base_uri": "https://localhost:8080/"
        },
        "id": "Cs_Pm7LEK2FF",
        "outputId": "868477df-3e13-4113-c2ce-9b8694c10e60"
      },
      "id": "Cs_Pm7LEK2FF",
      "execution_count": 42,
      "outputs": [
        {
          "output_type": "execute_result",
          "data": {
            "text/plain": [
              "array([-0.31622777-0.9486833j, -0.31622777-0.9486833j])"
            ]
          },
          "metadata": {},
          "execution_count": 42
        }
      ]
    },
    {
      "cell_type": "code",
      "source": [
        "sigRx.shape"
      ],
      "metadata": {
        "colab": {
          "base_uri": "https://localhost:8080/"
        },
        "id": "B0BLYUWq5ndM",
        "outputId": "99b6e01f-85fc-45cd-a5ff-2fbfd645abc1"
      },
      "id": "B0BLYUWq5ndM",
      "execution_count": null,
      "outputs": [
        {
          "output_type": "execute_result",
          "data": {
            "text/plain": [
              "(340200, 2)"
            ]
          },
          "metadata": {},
          "execution_count": 41
        }
      ]
    },
    {
      "cell_type": "markdown",
      "id": "e3813947",
      "metadata": {
        "id": "e3813947"
      },
      "source": [
        "### Power normalization"
      ]
    },
    {
      "cell_type": "code",
      "execution_count": 29,
      "id": "e6af9d14",
      "metadata": {
        "ExecuteTime": {
          "end_time": "2021-10-26T19:28:39.856530Z",
          "start_time": "2021-10-26T19:28:39.389128Z"
        },
        "id": "e6af9d14"
      },
      "outputs": [],
      "source": [
        "x = sigRx\n",
        "d = symbRx\n",
        "\n",
        "x = x.reshape(len(x),2)/np.sqrt(signal_power(x))\n",
        "d = d.reshape(len(d),2)/np.sqrt(signal_power(d))"
      ]
    },
    {
      "cell_type": "markdown",
      "id": "f9c25025",
      "metadata": {
        "id": "f9c25025"
      },
      "source": [
        "### Adaptive equalization"
      ]
    },
    {
      "cell_type": "code",
      "execution_count": 30,
      "id": "512e12d6",
      "metadata": {
        "ExecuteTime": {
          "end_time": "2021-10-26T19:31:25.400472Z",
          "start_time": "2021-10-26T19:31:21.953159Z"
        },
        "id": "512e12d6",
        "outputId": "e2e12ea9-15d3-433c-d00f-f9c644ddd5c9",
        "colab": {
          "base_uri": "https://localhost:8080/",
          "height": 264,
          "referenced_widgets": [
            "82e9d212949b40069e907673f709a246",
            "2535b6dfb69e4cc7a63265c2cddb7c0a",
            "707081587a40476ea99fb3e009121ee5",
            "dc27d2b622ff432cbbd26288d345c48c",
            "676e3efeb78f433da01c3b1cf48fdd8a",
            "6ba97a45d9bb4db79a06c216d185e2a6",
            "3398d987d8c84f1baf04ad8bf66da978",
            "4f5e66c1b2e249f0bb48771ba01d04c4",
            "cd6312d0b09f4b8595bd5bb46a65729f",
            "468dde44ca19466498b18654c36bb97b",
            "44d41f675009447d972b8883c1028881"
          ]
        }
      },
      "outputs": [
        {
          "output_type": "display_data",
          "data": {
            "text/plain": [
              "  0%|          | 0/5 [00:00<?, ?it/s]"
            ],
            "application/vnd.jupyter.widget-view+json": {
              "version_major": 2,
              "version_minor": 0,
              "model_id": "82e9d212949b40069e907673f709a246"
            }
          },
          "metadata": {}
        },
        {
          "output_type": "display_data",
          "data": {
            "text/plain": [
              "<Figure size 432x288 with 2 Axes>"
            ],
            "image/png": "[encoded data removed]"
          },
          "metadata": {
            "needs_background": "light"
          }
        }
      ],
      "source": [
        "mod = QAMModem(m=paramTx.M)\n",
        "\n",
        "paramEq = parameters()\n",
        "paramEq.nTaps = 15\n",
        "paramEq.SpS   = 2\n",
        "paramEq.mu    = [5e-3, 2e-3]\n",
        "paramEq.numIter = 5\n",
        "paramEq.storeCoeff = False\n",
        "paramEq.alg   = ['da-rde','rde']\n",
        "paramEq.M     = paramTx.M\n",
        "#paramEq.L = [20000, 112052]\n",
        "paramEq.L = [20000, 150100]\n",
        "y_EQ, H, errSq, Hiter = mimoAdaptEqualizer(x, dx=d, paramEq=paramEq)\n",
        "\n",
        "#plot constellations after adaptive equalization\n",
        "discard = 5000\n",
        "pconst([y_EQ[discard:-discard,:], d], lim=True)"
      ]
    },
    {
      "cell_type": "markdown",
      "id": "aaf0f85c",
      "metadata": {
        "id": "aaf0f85c"
      },
      "source": [
        "### Carrier phase recovery"
      ]
    },
    {
      "cell_type": "code",
      "execution_count": 31,
      "id": "4f6650fe",
      "metadata": {
        "ExecuteTime": {
          "end_time": "2021-10-26T19:31:25.400472Z",
          "start_time": "2021-10-26T19:31:21.953159Z"
        },
        "id": "4f6650fe",
        "outputId": "bd8f9bdf-7fdf-4236-8e04-715a82db6222",
        "colab": {
          "base_uri": "https://localhost:8080/",
          "height": 442
        }
      },
      "outputs": [
        {
          "output_type": "display_data",
          "data": {
            "text/plain": [
              "<Figure size 720x216 with 1 Axes>"
            ],
            "image/png": "[encoded data removed]"
          },
          "metadata": {
            "needs_background": "light"
          }
        },
        {
          "output_type": "display_data",
          "data": {
            "text/plain": [
              "<Figure size 432x288 with 2 Axes>"
            ],
            "image/png": "[encoded data removed]"
          },
          "metadata": {
            "needs_background": "light"
          }
        }
      ],
      "source": [
        "paramCPR = parameters()\n",
        "paramCPR.alg = 'bps'\n",
        "paramCPR.M   = paramTx.M\n",
        "paramCPR.N   = 35\n",
        "paramCPR.B   = 64\n",
        "paramCPR.pilotInd = np.arange(0, len(y_EQ), 20) \n",
        "\n",
        "y_CPR, θ = cpr(y_EQ, symbTx=d, paramCPR=paramCPR)\n",
        "\n",
        "y_CPR = y_CPR/np.sqrt(signal_power(y_CPR))\n",
        "\n",
        "plt.figure(figsize=(10, 3))\n",
        "plt.title('CPR estimated phase')\n",
        "plt.plot(θ,'-')\n",
        "plt.xlim(0, len(θ))\n",
        "plt.grid();\n",
        "\n",
        "discard = 5000\n",
        "\n",
        "#plot constellations after CPR\n",
        "pconst([y_CPR[discard:-discard,:], d], lim=True)"
      ]
    },
    {
      "cell_type": "code",
      "source": [
        "y_CPR[100:102,1]\n"
      ],
      "metadata": {
        "id": "t5yLwhvDeeZz",
        "colab": {
          "base_uri": "https://localhost:8080/"
        },
        "outputId": "7713537a-f5f2-4c78-e398-1e06e1f58a17"
      },
      "id": "t5yLwhvDeeZz",
      "execution_count": 32,
      "outputs": [
        {
          "output_type": "execute_result",
          "data": {
            "text/plain": [
              "array([0.90279842-0.92653318j, 0.96797015-0.87369246j])"
            ]
          },
          "metadata": {},
          "execution_count": 32
        }
      ]
    },
    {
      "cell_type": "markdown",
      "source": [
        "y_CPR就是解调出来的复数坐标"
      ],
      "metadata": {
        "id": "FZ00sb0bffZw"
      },
      "id": "FZ00sb0bffZw"
    },
    {
      "cell_type": "markdown",
      "id": "e9e07048",
      "metadata": {
        "id": "e9e07048"
      },
      "source": [
        "### Evaluate transmission metrics"
      ]
    },
    {
      "cell_type": "code",
      "execution_count": 33,
      "id": "67c66471",
      "metadata": {
        "ExecuteTime": {
          "end_time": "2021-10-26T19:31:32.990101Z",
          "start_time": "2021-10-26T19:31:27.613512Z"
        },
        "id": "67c66471",
        "outputId": "9dd9f9ef-9c85-4fa1-8793-27a92c114fcc",
        "colab": {
          "base_uri": "https://localhost:8080/"
        }
      },
      "outputs": [
        {
          "output_type": "stream",
          "name": "stdout",
          "text": [
            "     pol.X     pol.Y      \n",
            "SER: 3.94e-04, 4.06e-04\n",
            "BER: 9.84e-05, 1.01e-04\n",
            "SNR: 21.75 dB, 21.69 dB\n",
            "MI: 4.01 bits, 4.01 bits\n",
            "GMI: 3.99 bits, 3.99 bits\n"
          ]
        }
      ],
      "source": [
        "# correct (possible) phase ambiguity\n",
        "for k in range(y_CPR.shape[1]):\n",
        "    rot = np.mean(d[:,k]/y_CPR[:,k])\n",
        "    y_CPR[:,k] = rot*y_CPR[:,k]\n",
        "\n",
        "y_CPR = y_CPR/np.sqrt(signal_power(y_CPR))\n",
        "\n",
        "\n",
        "ind = np.arange(discard, d.shape[0]-discard)\n",
        "BER, SER, SNR = fastBERcalc(y_CPR[ind,:], d[ind,:], paramTx.M, 'qam')\n",
        "GMI,_    = monteCarloGMI(y_CPR[ind,:], d[ind,:], paramTx.M, 'qam')\n",
        "MI       = monteCarloMI(y_CPR[ind,:], d[ind,:], paramTx.M, 'qam')\n",
        "\n",
        "print('     pol.X     pol.Y      ')\n",
        "print('SER: %.2e, %.2e'%(SER[0], SER[1]))\n",
        "print('BER: %.2e, %.2e'%(BER[0], BER[1]))\n",
        "print('SNR: %.2f dB, %.2f dB'%(SNR[0], SNR[1]))\n",
        "print('MI: %.2f bits, %.2f bits'%(MI[0], MI[1]))\n",
        "print('GMI: %.2f bits, %.2f bits'%(GMI[0], GMI[1]))"
      ]
    },
    {
      "cell_type": "code",
      "source": [
        "y_CPR = y_CPR * np.sqrt(Es)"
      ],
      "metadata": {
        "id": "ykqpyHue61Pf"
      },
      "id": "ykqpyHue61Pf",
      "execution_count": 34,
      "outputs": []
    },
    {
      "cell_type": "code",
      "source": [
        "y_CPR[2,0]"
      ],
      "metadata": {
        "colab": {
          "base_uri": "https://localhost:8080/"
        },
        "id": "mUftlrsiPkQ_",
        "outputId": "7a988868-321d-44fd-d6a3-c7b9fdf3c88f"
      },
      "id": "mUftlrsiPkQ_",
      "execution_count": 44,
      "outputs": [
        {
          "output_type": "execute_result",
          "data": {
            "text/plain": [
              "(1.1939194205317474+1.5824378072384067j)"
            ]
          },
          "metadata": {},
          "execution_count": 44
        }
      ]
    },
    {
      "cell_type": "code",
      "source": [
        "bits_T[0:12]"
      ],
      "metadata": {
        "colab": {
          "base_uri": "https://localhost:8080/"
        },
        "id": "O9BuLhREP3iK",
        "outputId": "07ca7351-a694-4722-90ac-4e1730cc42c1"
      },
      "id": "O9BuLhREP3iK",
      "execution_count": 36,
      "outputs": [
        {
          "output_type": "execute_result",
          "data": {
            "text/plain": [
              "array([[0],\n",
              "       [0],\n",
              "       [0],\n",
              "       [1],\n",
              "       [0],\n",
              "       [1],\n",
              "       [1],\n",
              "       [1],\n",
              "       [0],\n",
              "       [0],\n",
              "       [0],\n",
              "       [0]], dtype=uint8)"
            ]
          },
          "metadata": {},
          "execution_count": 36
        }
      ]
    },
    {
      "cell_type": "code",
      "source": [
        "np.savetxt(\"./received_signals_new.csv\", y_CPR, delimiter=',')"
      ],
      "metadata": {
        "id": "8gQL-pta7HYH"
      },
      "id": "8gQL-pta7HYH",
      "execution_count": 37,
      "outputs": []
    },
    {
      "cell_type": "code",
      "source": [],
      "metadata": {
        "id": "dnVCqEUNO_aX"
      },
      "id": "dnVCqEUNO_aX",
      "execution_count": 37,
      "outputs": []
    },
    {
      "cell_type": "code",
      "source": [
        "import scipy.io as scio"
      ],
      "metadata": {
        "id": "05b7WKXh8rFY"
      },
      "id": "05b7WKXh8rFY",
      "execution_count": 38,
      "outputs": []
    },
    {
      "cell_type": "code",
      "source": [
        "dataNew = './received_signals_New.mat'\n",
        "scio.savemat(dataNew, {'data': y_CPR})"
      ],
      "metadata": {
        "id": "N7FF-wqc8sTb"
      },
      "id": "N7FF-wqc8sTb",
      "execution_count": 39,
      "outputs": []
    }
  ],
  "metadata": {
    "jupytext": {
      "encoding": "# -*- coding: utf-8 -*-",
      "formats": "ipynb,auto:light"
    },
    "kernelspec": {
      "display_name": "Python 3 (ipykernel)",
      "language": "python",
      "name": "python3"
    },
    "language_info": {
      "codemirror_mode": {
        "name": "ipython",
        "version": 3
      },
      "file_extension": ".py",
      "mimetype": "text/x-python",
      "name": "python",
      "nbconvert_exporter": "python",
      "pygments_lexer": "ipython3",
      "version": "3.9.12"
    },
    "toc": {
      "base_numbering": 1,
      "nav_menu": {},
      "number_sections": true,
      "sideBar": true,
      "skip_h1_title": true,
      "title_cell": "Table of Contents",
      "title_sidebar": "Contents",
      "toc_cell": true,
      "toc_position": {
        "height": "calc(100% - 180px)",
        "left": "10px",
        "top": "150px",
        "width": "261.719px"
      },
      "toc_section_display": true,
      "toc_window_display": false
    },
    "varInspector": {
      "cols": {
        "lenName": 16,
        "lenType": 16,
        "lenVar": 40
      },
      "kernels_config": {
        "python": {
          "delete_cmd_postfix": "",
          "delete_cmd_prefix": "del ",
          "library": "var_list.py",
          "varRefreshCmd": "print(var_dic_list())"
        },
        "r": {
          "delete_cmd_postfix": ") ",
          "delete_cmd_prefix": "rm(",
          "library": "var_list.r",
          "varRefreshCmd": "cat(var_dic_list()) "
        }
      },
      "position": {
        "height": "144.4px",
        "left": "1163px",
        "right": "20px",
        "top": "121px",
        "width": "350px"
      },
      "types_to_exclude": [
        "module",
        "function",
        "builtin_function_or_method",
        "instance",
        "_Feature"
      ],
      "window_display": false
    },
    "colab": {
      "provenance": [],
      "include_colab_link": true
    },
    "gpuClass": "standard",
    "widgets": {
      "application/vnd.jupyter.widget-state+json": {
        "653ff3f159834017b62b88fb6bcd1a0a": {
          "model_module": "@jupyter-widgets/controls",
          "model_name": "HBoxModel",
          "model_module_version": "1.5.0",
          "state": {
            "_dom_classes": [],
            "_model_module": "@jupyter-widgets/controls",
            "_model_module_version": "1.5.0",
            "_model_name": "HBoxModel",
            "_view_count": null,
            "_view_module": "@jupyter-widgets/controls",
            "_view_module_version": "1.5.0",
            "_view_name": "HBoxView",
            "box_style": "",
            "children": [
              "IPY_MODEL_e2f25474f4434762b035bf685cc3a992",
              "IPY_MODEL_6ccd822f99fe42a78062808db050d6b9",
              "IPY_MODEL_d5f546f010a1438c90dc03ea69f099b2"
            ],
            "layout": "IPY_MODEL_c46065818f0747d5a3524065aa34ed82"
          }
        },
        "e2f25474f4434762b035bf685cc3a992": {
          "model_module": "@jupyter-widgets/controls",
          "model_name": "HTMLModel",
          "model_module_version": "1.5.0",
          "state": {
            "_dom_classes": [],
            "_model_module": "@jupyter-widgets/controls",
            "_model_module_version": "1.5.0",
            "_model_name": "HTMLModel",
            "_view_count": null,
            "_view_module": "@jupyter-widgets/controls",
            "_view_module_version": "1.5.0",
            "_view_name": "HTMLView",
            "description": "",
            "description_tooltip": null,
            "layout": "IPY_MODEL_eac45e3d176544a7a90e87d87b99fe52",
            "placeholder": "​",
            "style": "IPY_MODEL_41bcfca83b024ee9974ae0026a910aab",
            "value": "100%"
          }
        },
        "6ccd822f99fe42a78062808db050d6b9": {
          "model_module": "@jupyter-widgets/controls",
          "model_name": "FloatProgressModel",
          "model_module_version": "1.5.0",
          "state": {
            "_dom_classes": [],
            "_model_module": "@jupyter-widgets/controls",
            "_model_module_version": "1.5.0",
            "_model_name": "FloatProgressModel",
            "_view_count": null,
            "_view_module": "@jupyter-widgets/controls",
            "_view_module_version": "1.5.0",
            "_view_name": "ProgressView",
            "bar_style": "success",
            "description": "",
            "description_tooltip": null,
            "layout": "IPY_MODEL_c6950f3397784fcb8d694ac1a4a3a14d",
            "max": 6,
            "min": 0,
            "orientation": "horizontal",
            "style": "IPY_MODEL_6c47c6ea4c7f458385a70f30903fd184",
            "value": 6
          }
        },
        "d5f546f010a1438c90dc03ea69f099b2": {
          "model_module": "@jupyter-widgets/controls",
          "model_name": "HTMLModel",
          "model_module_version": "1.5.0",
          "state": {
            "_dom_classes": [],
            "_model_module": "@jupyter-widgets/controls",
            "_model_module_version": "1.5.0",
            "_model_name": "HTMLModel",
            "_view_count": null,
            "_view_module": "@jupyter-widgets/controls",
            "_view_module_version": "1.5.0",
            "_view_name": "HTMLView",
            "description": "",
            "description_tooltip": null,
            "layout": "IPY_MODEL_c52da78eefaa450d82fc87281e965bdb",
            "placeholder": "​",
            "style": "IPY_MODEL_be22006e314c4676ab918eb9076ec3d8",
            "value": " 6/6 [02:22&lt;00:00, 23.32s/it]"
          }
        },
        "c46065818f0747d5a3524065aa34ed82": {
          "model_module": "@jupyter-widgets/base",
          "model_name": "LayoutModel",
          "model_module_version": "1.2.0",
          "state": {
            "_model_module": "@jupyter-widgets/base",
            "_model_module_version": "1.2.0",
            "_model_name": "LayoutModel",
            "_view_count": null,
            "_view_module": "@jupyter-widgets/base",
            "_view_module_version": "1.2.0",
            "_view_name": "LayoutView",
            "align_content": null,
            "align_items": null,
            "align_self": null,
            "border": null,
            "bottom": null,
            "display": null,
            "flex": null,
            "flex_flow": null,
            "grid_area": null,
            "grid_auto_columns": null,
            "grid_auto_flow": null,
            "grid_auto_rows": null,
            "grid_column": null,
            "grid_gap": null,
            "grid_row": null,
            "grid_template_areas": null,
            "grid_template_columns": null,
            "grid_template_rows": null,
            "height": null,
            "justify_content": null,
            "justify_items": null,
            "left": null,
            "margin": null,
            "max_height": null,
            "max_width": null,
            "min_height": null,
            "min_width": null,
            "object_fit": null,
            "object_position": null,
            "order": null,
            "overflow": null,
            "overflow_x": null,
            "overflow_y": null,
            "padding": null,
            "right": null,
            "top": null,
            "visibility": null,
            "width": null
          }
        },
        "eac45e3d176544a7a90e87d87b99fe52": {
          "model_module": "@jupyter-widgets/base",
          "model_name": "LayoutModel",
          "model_module_version": "1.2.0",
          "state": {
            "_model_module": "@jupyter-widgets/base",
            "_model_module_version": "1.2.0",
            "_model_name": "LayoutModel",
            "_view_count": null,
            "_view_module": "@jupyter-widgets/base",
            "_view_module_version": "1.2.0",
            "_view_name": "LayoutView",
            "align_content": null,
            "align_items": null,
            "align_self": null,
            "border": null,
            "bottom": null,
            "display": null,
            "flex": null,
            "flex_flow": null,
            "grid_area": null,
            "grid_auto_columns": null,
            "grid_auto_flow": null,
            "grid_auto_rows": null,
            "grid_column": null,
            "grid_gap": null,
            "grid_row": null,
            "grid_template_areas": null,
            "grid_template_columns": null,
            "grid_template_rows": null,
            "height": null,
            "justify_content": null,
            "justify_items": null,
            "left": null,
            "margin": null,
            "max_height": null,
            "max_width": null,
            "min_height": null,
            "min_width": null,
            "object_fit": null,
            "object_position": null,
            "order": null,
            "overflow": null,
            "overflow_x": null,
            "overflow_y": null,
            "padding": null,
            "right": null,
            "top": null,
            "visibility": null,
            "width": null
          }
        },
        "41bcfca83b024ee9974ae0026a910aab": {
          "model_module": "@jupyter-widgets/controls",
          "model_name": "DescriptionStyleModel",
          "model_module_version": "1.5.0",
          "state": {
            "_model_module": "@jupyter-widgets/controls",
            "_model_module_version": "1.5.0",
            "_model_name": "DescriptionStyleModel",
            "_view_count": null,
            "_view_module": "@jupyter-widgets/base",
            "_view_module_version": "1.2.0",
            "_view_name": "StyleView",
            "description_width": ""
          }
        },
        "c6950f3397784fcb8d694ac1a4a3a14d": {
          "model_module": "@jupyter-widgets/base",
          "model_name": "LayoutModel",
          "model_module_version": "1.2.0",
          "state": {
            "_model_module": "@jupyter-widgets/base",
            "_model_module_version": "1.2.0",
            "_model_name": "LayoutModel",
            "_view_count": null,
            "_view_module": "@jupyter-widgets/base",
            "_view_module_version": "1.2.0",
            "_view_name": "LayoutView",
            "align_content": null,
            "align_items": null,
            "align_self": null,
            "border": null,
            "bottom": null,
            "display": null,
            "flex": null,
            "flex_flow": null,
            "grid_area": null,
            "grid_auto_columns": null,
            "grid_auto_flow": null,
            "grid_auto_rows": null,
            "grid_column": null,
            "grid_gap": null,
            "grid_row": null,
            "grid_template_areas": null,
            "grid_template_columns": null,
            "grid_template_rows": null,
            "height": null,
            "justify_content": null,
            "justify_items": null,
            "left": null,
            "margin": null,
            "max_height": null,
            "max_width": null,
            "min_height": null,
            "min_width": null,
            "object_fit": null,
            "object_position": null,
            "order": null,
            "overflow": null,
            "overflow_x": null,
            "overflow_y": null,
            "padding": null,
            "right": null,
            "top": null,
            "visibility": null,
            "width": null
          }
        },
        "6c47c6ea4c7f458385a70f30903fd184": {
          "model_module": "@jupyter-widgets/controls",
          "model_name": "ProgressStyleModel",
          "model_module_version": "1.5.0",
          "state": {
            "_model_module": "@jupyter-widgets/controls",
            "_model_module_version": "1.5.0",
            "_model_name": "ProgressStyleModel",
            "_view_count": null,
            "_view_module": "@jupyter-widgets/base",
            "_view_module_version": "1.2.0",
            "_view_name": "StyleView",
            "bar_color": null,
            "description_width": ""
          }
        },
        "c52da78eefaa450d82fc87281e965bdb": {
          "model_module": "@jupyter-widgets/base",
          "model_name": "LayoutModel",
          "model_module_version": "1.2.0",
          "state": {
            "_model_module": "@jupyter-widgets/base",
            "_model_module_version": "1.2.0",
            "_model_name": "LayoutModel",
            "_view_count": null,
            "_view_module": "@jupyter-widgets/base",
            "_view_module_version": "1.2.0",
            "_view_name": "LayoutView",
            "align_content": null,
            "align_items": null,
            "align_self": null,
            "border": null,
            "bottom": null,
            "display": null,
            "flex": null,
            "flex_flow": null,
            "grid_area": null,
            "grid_auto_columns": null,
            "grid_auto_flow": null,
            "grid_auto_rows": null,
            "grid_column": null,
            "grid_gap": null,
            "grid_row": null,
            "grid_template_areas": null,
            "grid_template_columns": null,
            "grid_template_rows": null,
            "height": null,
            "justify_content": null,
            "justify_items": null,
            "left": null,
            "margin": null,
            "max_height": null,
            "max_width": null,
            "min_height": null,
            "min_width": null,
            "object_fit": null,
            "object_position": null,
            "order": null,
            "overflow": null,
            "overflow_x": null,
            "overflow_y": null,
            "padding": null,
            "right": null,
            "top": null,
            "visibility": null,
            "width": null
          }
        },
        "be22006e314c4676ab918eb9076ec3d8": {
          "model_module": "@jupyter-widgets/controls",
          "model_name": "DescriptionStyleModel",
          "model_module_version": "1.5.0",
          "state": {
            "_model_module": "@jupyter-widgets/controls",
            "_model_module_version": "1.5.0",
            "_model_name": "DescriptionStyleModel",
            "_view_count": null,
            "_view_module": "@jupyter-widgets/base",
            "_view_module_version": "1.2.0",
            "_view_name": "StyleView",
            "description_width": ""
          }
        },
        "82e9d212949b40069e907673f709a246": {
          "model_module": "@jupyter-widgets/controls",
          "model_name": "HBoxModel",
          "model_module_version": "1.5.0",
          "state": {
            "_dom_classes": [],
            "_model_module": "@jupyter-widgets/controls",
            "_model_module_version": "1.5.0",
            "_model_name": "HBoxModel",
            "_view_count": null,
            "_view_module": "@jupyter-widgets/controls",
            "_view_module_version": "1.5.0",
            "_view_name": "HBoxView",
            "box_style": "",
            "children": [
              "IPY_MODEL_2535b6dfb69e4cc7a63265c2cddb7c0a",
              "IPY_MODEL_707081587a40476ea99fb3e009121ee5",
              "IPY_MODEL_dc27d2b622ff432cbbd26288d345c48c"
            ],
            "layout": "IPY_MODEL_676e3efeb78f433da01c3b1cf48fdd8a"
          }
        },
        "2535b6dfb69e4cc7a63265c2cddb7c0a": {
          "model_module": "@jupyter-widgets/controls",
          "model_name": "HTMLModel",
          "model_module_version": "1.5.0",
          "state": {
            "_dom_classes": [],
            "_model_module": "@jupyter-widgets/controls",
            "_model_module_version": "1.5.0",
            "_model_name": "HTMLModel",
            "_view_count": null,
            "_view_module": "@jupyter-widgets/controls",
            "_view_module_version": "1.5.0",
            "_view_name": "HTMLView",
            "description": "",
            "description_tooltip": null,
            "layout": "IPY_MODEL_6ba97a45d9bb4db79a06c216d185e2a6",
            "placeholder": "​",
            "style": "IPY_MODEL_3398d987d8c84f1baf04ad8bf66da978",
            "value": "100%"
          }
        },
        "707081587a40476ea99fb3e009121ee5": {
          "model_module": "@jupyter-widgets/controls",
          "model_name": "FloatProgressModel",
          "model_module_version": "1.5.0",
          "state": {
            "_dom_classes": [],
            "_model_module": "@jupyter-widgets/controls",
            "_model_module_version": "1.5.0",
            "_model_name": "FloatProgressModel",
            "_view_count": null,
            "_view_module": "@jupyter-widgets/controls",
            "_view_module_version": "1.5.0",
            "_view_name": "ProgressView",
            "bar_style": "success",
            "description": "",
            "description_tooltip": null,
            "layout": "IPY_MODEL_4f5e66c1b2e249f0bb48771ba01d04c4",
            "max": 5,
            "min": 0,
            "orientation": "horizontal",
            "style": "IPY_MODEL_cd6312d0b09f4b8595bd5bb46a65729f",
            "value": 5
          }
        },
        "dc27d2b622ff432cbbd26288d345c48c": {
          "model_module": "@jupyter-widgets/controls",
          "model_name": "HTMLModel",
          "model_module_version": "1.5.0",
          "state": {
            "_dom_classes": [],
            "_model_module": "@jupyter-widgets/controls",
            "_model_module_version": "1.5.0",
            "_model_name": "HTMLModel",
            "_view_count": null,
            "_view_module": "@jupyter-widgets/controls",
            "_view_module_version": "1.5.0",
            "_view_name": "HTMLView",
            "description": "",
            "description_tooltip": null,
            "layout": "IPY_MODEL_468dde44ca19466498b18654c36bb97b",
            "placeholder": "​",
            "style": "IPY_MODEL_44d41f675009447d972b8883c1028881",
            "value": " 5/5 [00:31&lt;00:00,  2.84s/it]"
          }
        },
        "676e3efeb78f433da01c3b1cf48fdd8a": {
          "model_module": "@jupyter-widgets/base",
          "model_name": "LayoutModel",
          "model_module_version": "1.2.0",
          "state": {
            "_model_module": "@jupyter-widgets/base",
            "_model_module_version": "1.2.0",
            "_model_name": "LayoutModel",
            "_view_count": null,
            "_view_module": "@jupyter-widgets/base",
            "_view_module_version": "1.2.0",
            "_view_name": "LayoutView",
            "align_content": null,
            "align_items": null,
            "align_self": null,
            "border": null,
            "bottom": null,
            "display": null,
            "flex": null,
            "flex_flow": null,
            "grid_area": null,
            "grid_auto_columns": null,
            "grid_auto_flow": null,
            "grid_auto_rows": null,
            "grid_column": null,
            "grid_gap": null,
            "grid_row": null,
            "grid_template_areas": null,
            "grid_template_columns": null,
            "grid_template_rows": null,
            "height": null,
            "justify_content": null,
            "justify_items": null,
            "left": null,
            "margin": null,
            "max_height": null,
            "max_width": null,
            "min_height": null,
            "min_width": null,
            "object_fit": null,
            "object_position": null,
            "order": null,
            "overflow": null,
            "overflow_x": null,
            "overflow_y": null,
            "padding": null,
            "right": null,
            "top": null,
            "visibility": null,
            "width": null
          }
        },
        "6ba97a45d9bb4db79a06c216d185e2a6": {
          "model_module": "@jupyter-widgets/base",
          "model_name": "LayoutModel",
          "model_module_version": "1.2.0",
          "state": {
            "_model_module": "@jupyter-widgets/base",
            "_model_module_version": "1.2.0",
            "_model_name": "LayoutModel",
            "_view_count": null,
            "_view_module": "@jupyter-widgets/base",
            "_view_module_version": "1.2.0",
            "_view_name": "LayoutView",
            "align_content": null,
            "align_items": null,
            "align_self": null,
            "border": null,
            "bottom": null,
            "display": null,
            "flex": null,
            "flex_flow": null,
            "grid_area": null,
            "grid_auto_columns": null,
            "grid_auto_flow": null,
            "grid_auto_rows": null,
            "grid_column": null,
            "grid_gap": null,
            "grid_row": null,
            "grid_template_areas": null,
            "grid_template_columns": null,
            "grid_template_rows": null,
            "height": null,
            "justify_content": null,
            "justify_items": null,
            "left": null,
            "margin": null,
            "max_height": null,
            "max_width": null,
            "min_height": null,
            "min_width": null,
            "object_fit": null,
            "object_position": null,
            "order": null,
            "overflow": null,
            "overflow_x": null,
            "overflow_y": null,
            "padding": null,
            "right": null,
            "top": null,
            "visibility": null,
            "width": null
          }
        },
        "3398d987d8c84f1baf04ad8bf66da978": {
          "model_module": "@jupyter-widgets/controls",
          "model_name": "DescriptionStyleModel",
          "model_module_version": "1.5.0",
          "state": {
            "_model_module": "@jupyter-widgets/controls",
            "_model_module_version": "1.5.0",
            "_model_name": "DescriptionStyleModel",
            "_view_count": null,
            "_view_module": "@jupyter-widgets/base",
            "_view_module_version": "1.2.0",
            "_view_name": "StyleView",
            "description_width": ""
          }
        },
        "4f5e66c1b2e249f0bb48771ba01d04c4": {
          "model_module": "@jupyter-widgets/base",
          "model_name": "LayoutModel",
          "model_module_version": "1.2.0",
          "state": {
            "_model_module": "@jupyter-widgets/base",
            "_model_module_version": "1.2.0",
            "_model_name": "LayoutModel",
            "_view_count": null,
            "_view_module": "@jupyter-widgets/base",
            "_view_module_version": "1.2.0",
            "_view_name": "LayoutView",
            "align_content": null,
            "align_items": null,
            "align_self": null,
            "border": null,
            "bottom": null,
            "display": null,
            "flex": null,
            "flex_flow": null,
            "grid_area": null,
            "grid_auto_columns": null,
            "grid_auto_flow": null,
            "grid_auto_rows": null,
            "grid_column": null,
            "grid_gap": null,
            "grid_row": null,
            "grid_template_areas": null,
            "grid_template_columns": null,
            "grid_template_rows": null,
            "height": null,
            "justify_content": null,
            "justify_items": null,
            "left": null,
            "margin": null,
            "max_height": null,
            "max_width": null,
            "min_height": null,
            "min_width": null,
            "object_fit": null,
            "object_position": null,
            "order": null,
            "overflow": null,
            "overflow_x": null,
            "overflow_y": null,
            "padding": null,
            "right": null,
            "top": null,
            "visibility": null,
            "width": null
          }
        },
        "cd6312d0b09f4b8595bd5bb46a65729f": {
          "model_module": "@jupyter-widgets/controls",
          "model_name": "ProgressStyleModel",
          "model_module_version": "1.5.0",
          "state": {
            "_model_module": "@jupyter-widgets/controls",
            "_model_module_version": "1.5.0",
            "_model_name": "ProgressStyleModel",
            "_view_count": null,
            "_view_module": "@jupyter-widgets/base",
            "_view_module_version": "1.2.0",
            "_view_name": "StyleView",
            "bar_color": null,
            "description_width": ""
          }
        },
        "468dde44ca19466498b18654c36bb97b": {
          "model_module": "@jupyter-widgets/base",
          "model_name": "LayoutModel",
          "model_module_version": "1.2.0",
          "state": {
            "_model_module": "@jupyter-widgets/base",
            "_model_module_version": "1.2.0",
            "_model_name": "LayoutModel",
            "_view_count": null,
            "_view_module": "@jupyter-widgets/base",
            "_view_module_version": "1.2.0",
            "_view_name": "LayoutView",
            "align_content": null,
            "align_items": null,
            "align_self": null,
            "border": null,
            "bottom": null,
            "display": null,
            "flex": null,
            "flex_flow": null,
            "grid_area": null,
            "grid_auto_columns": null,
            "grid_auto_flow": null,
            "grid_auto_rows": null,
            "grid_column": null,
            "grid_gap": null,
            "grid_row": null,
            "grid_template_areas": null,
            "grid_template_columns": null,
            "grid_template_rows": null,
            "height": null,
            "justify_content": null,
            "justify_items": null,
            "left": null,
            "margin": null,
            "max_height": null,
            "max_width": null,
            "min_height": null,
            "min_width": null,
            "object_fit": null,
            "object_position": null,
            "order": null,
            "overflow": null,
            "overflow_x": null,
            "overflow_y": null,
            "padding": null,
            "right": null,
            "top": null,
            "visibility": null,
            "width": null
          }
        },
        "44d41f675009447d972b8883c1028881": {
          "model_module": "@jupyter-widgets/controls",
          "model_name": "DescriptionStyleModel",
          "model_module_version": "1.5.0",
          "state": {
            "_model_module": "@jupyter-widgets/controls",
            "_model_module_version": "1.5.0",
            "_model_name": "DescriptionStyleModel",
            "_view_count": null,
            "_view_module": "@jupyter-widgets/base",
            "_view_module_version": "1.2.0",
            "_view_name": "StyleView",
            "description_width": ""
          }
        }
      }
    },
    "accelerator": "GPU"
  },
  "nbformat": 4,
  "nbformat_minor": 5
}